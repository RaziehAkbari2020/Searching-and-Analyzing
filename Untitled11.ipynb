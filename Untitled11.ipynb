{
  "nbformat": 4,
  "nbformat_minor": 0,
  "metadata": {
    "colab": {
      "provenance": [],
      "authorship_tag": "ABX9TyPvoRoK4Mpzf2iLVxPkEZcY",
      "include_colab_link": true
    },
    "kernelspec": {
      "name": "python3",
      "display_name": "Python 3"
    },
    "language_info": {
      "name": "python"
    }
  },
  "cells": [
    {
      "cell_type": "markdown",
      "metadata": {
        "id": "view-in-github",
        "colab_type": "text"
      },
      "source": [
        "<a href=\"https://colab.research.google.com/github/RaziehAkbari2020/Searching-and-Analyzing/blob/main/Untitled11.ipynb\" target=\"_parent\"><img src=\"https://colab.research.google.com/assets/colab-badge.svg\" alt=\"Open In Colab\"/></a>"
      ]
    },
    {
      "cell_type": "markdown",
      "source": [
        "**روش 1**"
      ],
      "metadata": {
        "id": "zdIRRMc9s3Ah"
      }
    },
    {
      "cell_type": "markdown",
      "source": [
        "ترکیب سرچ انجین گوگل و وب اسکرپینگ و چت جی پی تی برای دریافت کامل اطلاعات"
      ],
      "metadata": {
        "id": "-4N0pbpep9vW"
      }
    },
    {
      "cell_type": "markdown",
      "source": [
        "نصب کتابخانه‌های مورد نیاز:\n"
      ],
      "metadata": {
        "id": "SSVZkUTVqc5X"
      }
    },
    {
      "cell_type": "code",
      "source": [
        "!pip install openai\n",
        "!pip install pandas\n",
        "!pip install google-api-python-client\n",
        "!pip install beautifulsoup4\n",
        "!pip install transformers\n"
      ],
      "metadata": {
        "id": "Qe1IXlw2qFTh"
      },
      "execution_count": null,
      "outputs": []
    },
    {
      "cell_type": "markdown",
      "source": [
        "تنظیم کلیدهای API:\n"
      ],
      "metadata": {
        "id": "RvdxHVa3qfij"
      }
    },
    {
      "cell_type": "code",
      "source": [
        "from googleapiclient.discovery import build\n",
        "import openai\n",
        "\n",
        "# تنظیم کلید API\n",
        "openai.api_key = 'YOUR_OPENAI_API_KEY'  # کلید API خود را وارد کنید\n",
        "API_KEY = 'YOUR_GOOGLE_API_KEY'  # کلید API گوگل خود را وارد کنید\n",
        "CX = 'YOUR_CX'  # CX گوگل خود را وارد کنید\n"
      ],
      "metadata": {
        "id": "UDBCtO6iqiby"
      },
      "execution_count": null,
      "outputs": []
    },
    {
      "cell_type": "markdown",
      "source": [
        "تابع جستجو در گوگل برای جمع‌آوری لینک‌ها:\n"
      ],
      "metadata": {
        "id": "Heb0aEhcqlIk"
      }
    },
    {
      "cell_type": "code",
      "source": [
        "def google_search(query):\n",
        "    service = build(\"customsearch\", \"v1\", developerKey=API_KEY)\n",
        "    response = service.cse().list(q=query, cx=CX, num=10).execute()\n",
        "    links = [item['link'] for item in response.get('items', [])]\n",
        "    return links\n"
      ],
      "metadata": {
        "id": "pFs4O-coqoT2"
      },
      "execution_count": null,
      "outputs": []
    },
    {
      "cell_type": "markdown",
      "source": [
        "تابع استخراج اطلاعات از هر صفحه:\n"
      ],
      "metadata": {
        "id": "EI9qSrAgqq04"
      }
    },
    {
      "cell_type": "code",
      "source": [
        "import requests\n",
        "from bs4 import BeautifulSoup\n",
        "\n",
        "def fetch_data_from_url(url, program_name):\n",
        "    response = requests.get(url)\n",
        "    soup = BeautifulSoup(response.text, 'html.parser')\n",
        "\n",
        "    # جستجوی عبارات مرتبط با برنامه تحصیلی\n",
        "    relevant_sections = soup.find_all(text=lambda text: text and program_name.lower() in text.lower())\n",
        "\n",
        "    # استخراج اطلاعات مورد نیاز\n",
        "    information = []\n",
        "    for section in relevant_sections:\n",
        "        parent = section.find_parent()\n",
        "        information.append(parent.get_text())\n",
        "\n",
        "    return '\\n'.join(information)\n"
      ],
      "metadata": {
        "id": "OedvV4gZqvgs"
      },
      "execution_count": null,
      "outputs": []
    },
    {
      "cell_type": "code",
      "source": [
        "تابع تحلیل اطلاعات با استفاده از GPT:\n"
      ],
      "metadata": {
        "id": "qeN5B7nfqx23"
      },
      "execution_count": null,
      "outputs": []
    },
    {
      "cell_type": "code",
      "source": [
        "def analyze_text_with_gpt(text, question):\n",
        "    prompt = f\"Extract the answer to the following question from the text: {question}\\n\\nText: {text}\"\n",
        "    response = openai.Completion.create(\n",
        "      engine=\"text-davinci-003\",  # یا \"gpt-4\" برای استفاده از GPT-4\n",
        "      prompt=prompt,\n",
        "      max_tokens=150,\n",
        "      n=1,\n",
        "      stop=None,\n",
        "      temperature=0.7,\n",
        "    )\n",
        "    return response.choices[0].text.strip()\n"
      ],
      "metadata": {
        "id": "Xe6eazAEq105"
      },
      "execution_count": null,
      "outputs": []
    },
    {
      "cell_type": "markdown",
      "source": [
        "کد اصلی برای ترکیب تمامی مراحل و نمایش نتایج در قالب جدول:\n"
      ],
      "metadata": {
        "id": "knsI0bUcq35M"
      }
    },
    {
      "cell_type": "code",
      "source": [
        "import pandas as pd\n",
        "\n",
        "# گرفتن ورودی از کاربر\n",
        "university_name = input(\"Enter University Name (e.g., uni-bamberg): \")\n",
        "program_name = input(\"Enter Program Name (e.g., denkmalpflege heritage conservation): \")\n",
        "\n",
        "# جستجو در گوگل برای پیدا کردن لینک‌های مرتبط\n",
        "query = f\"site:{university_name}.de {program_name}\"\n",
        "links = google_search(query)\n",
        "\n",
        "# چاپ لینک‌های پیدا شده برای بررسی\n",
        "print(\"Found links:\", links)\n",
        "\n",
        "# اگر لینک‌ها پیدا شدند، داده‌ها را پردازش کنید\n",
        "if links:\n",
        "    combined_information = \"\"\n",
        "    for link in links:\n",
        "        data = fetch_data_from_url(link, program_name)\n",
        "        combined_information += data + \"\\n\"\n",
        "\n",
        "    # سوالاتی که می‌خواهید پاسخ داده شود\n",
        "    questions = [\n",
        "        \"What is the language of instruction?\",\n",
        "        \"Which term is it for?\",\n",
        "        # سوالات دیگر خود را اینجا اضافه کنید\n",
        "    ]\n",
        "\n",
        "    # استخراج پاسخ‌ها با GPT\n",
        "    answers = []\n",
        "    for question in questions:\n",
        "        answer = analyze_text_with_gpt(combined_information, question)\n",
        "        answers.append(answer)\n",
        "\n",
        "    # ساختن جدول با pandas\n",
        "    df = pd.DataFrame({\n",
        "        \"Question\": questions,\n",
        "        \"Answer\": answers\n",
        "    })\n",
        "\n",
        "    # نمایش جدول\n",
        "    print(df)\n",
        "else:\n",
        "    print(\"No links found for the given query.\")\n"
      ],
      "metadata": {
        "id": "LKa1rW41q7PI"
      },
      "execution_count": null,
      "outputs": []
    }
  ]
}