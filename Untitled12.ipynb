{
  "nbformat": 4,
  "nbformat_minor": 0,
  "metadata": {
    "colab": {
      "provenance": [],
      "toc_visible": true,
      "authorship_tag": "ABX9TyPXtkDRZIJHBRD/ySx9IxxU",
      "include_colab_link": true
    },
    "kernelspec": {
      "name": "python3",
      "display_name": "Python 3"
    },
    "language_info": {
      "name": "python"
    }
  },
  "cells": [
    {
      "cell_type": "markdown",
      "metadata": {
        "id": "view-in-github",
        "colab_type": "text"
      },
      "source": [
        "<a href=\"https://colab.research.google.com/github/RaziehAkbari2020/Searching-and-Analyzing/blob/main/Untitled12.ipynb\" target=\"_parent\"><img src=\"https://colab.research.google.com/assets/colab-badge.svg\" alt=\"Open In Colab\"/></a>"
      ]
    },
    {
      "cell_type": "markdown",
      "source": [
        "**روش 2**"
      ],
      "metadata": {
        "id": "EoMPNm6y10K7"
      }
    },
    {
      "cell_type": "markdown",
      "source": [
        "نصب کتابخانه‌های مورد نیاز:\n"
      ],
      "metadata": {
        "id": "V8nfGtWH2SaQ"
      }
    },
    {
      "cell_type": "code",
      "execution_count": null,
      "metadata": {
        "id": "vyLJiegJ1zVn"
      },
      "outputs": [],
      "source": [
        "!pip install google-api-python-client\n",
        "!pip install beautifulsoup4\n",
        "!pip install transformers\n",
        "!pip install openai\n",
        "!pip install faiss-cpu\n",
        "!pip install pandas\n"
      ]
    },
    {
      "cell_type": "markdown",
      "source": [
        "تنظیم کلیدهای API:\n"
      ],
      "metadata": {
        "id": "-OO1a__x2TPE"
      }
    },
    {
      "cell_type": "code",
      "source": [
        "from googleapiclient.discovery import build\n",
        "import openai\n",
        "\n",
        "# تنظیم کلید API\n",
        "openai.api_key = 'YOUR_OPENAI_API_KEY'  # کلید API OpenAI خود را وارد کنید\n",
        "API_KEY = 'YOUR_GOOGLE_API_KEY'  # کلید API گوگل خود را وارد کنید\n",
        "CX = 'YOUR_CX'  # CX گوگل خود را وارد کنید\n"
      ],
      "metadata": {
        "id": "Ds5945qY17Cc"
      },
      "execution_count": null,
      "outputs": []
    },
    {
      "cell_type": "markdown",
      "source": [
        "تابع جستجو در گوگل برای جمع‌آوری لینک‌ها:\n"
      ],
      "metadata": {
        "id": "4Ucz_pqo2V9w"
      }
    },
    {
      "cell_type": "code",
      "source": [
        "import requests\n",
        "from bs4 import BeautifulSoup\n",
        "\n",
        "def google_search(query):\n",
        "    search_url = f\"https://www.google.com/search?q={query}\"\n",
        "    headers = {\n",
        "        \"User-Agent\": \"Mozilla/5.0 (Windows NT 10.0; Win64; x64) AppleWebKit/537.36 (KHTML, like Gecko) Chrome/58.0.3029.110 Safari/537.3\"\n",
        "    }\n",
        "    response = requests.get(search_url, headers=headers)\n",
        "    soup = BeautifulSoup(response.text, 'html.parser')\n",
        "\n",
        "    links = []\n",
        "    for item in soup.find_all('a'):\n",
        "        href = item.get('href')\n",
        "        if \"url?q=\" in href and \"webcache\" not in href:\n",
        "            link = href.split(\"url?q=\")[1].split(\"&sa=U\")[0]\n",
        "            if query.split(' ')[0] in link:\n",
        "                links.append(link)\n",
        "    return links\n"
      ],
      "metadata": {
        "id": "pgRpEsNm19QS"
      },
      "execution_count": null,
      "outputs": []
    },
    {
      "cell_type": "markdown",
      "source": [
        "تابع استخراج اطلاعات از هر صفحه:\n"
      ],
      "metadata": {
        "id": "aNyPlleo2axK"
      }
    },
    {
      "cell_type": "code",
      "source": [
        "def fetch_data_from_url(url):\n",
        "    response = requests.get(url)\n",
        "    soup = BeautifulSoup(response.text, 'html.parser')\n",
        "\n",
        "    # استخراج متون از تمامی پاراگراف‌ها\n",
        "    paragraphs = soup.find_all('p')\n",
        "    text = ' '.join([para.get_text() for para in paragraphs])\n",
        "\n",
        "    return text\n"
      ],
      "metadata": {
        "id": "zb2Wx_YI2Afe"
      },
      "execution_count": null,
      "outputs": []
    },
    {
      "cell_type": "markdown",
      "source": [
        "تابع RAG برای بازیابی و تولید پاسخ:\n"
      ],
      "metadata": {
        "id": "f9etog-72f7C"
      }
    },
    {
      "cell_type": "code",
      "source": [
        "import torch\n",
        "from transformers import RagTokenizer, RagRetriever, RagSequenceForGeneration\n",
        "\n",
        "# تنظیم مدل و توکنایزر RAG\n",
        "tokenizer = RagTokenizer.from_pretrained(\"facebook/rag-token-nq\")\n",
        "retriever = RagRetriever.from_pretrained(\"facebook/rag-token-nq\", index_name=\"exact\", use_dummy_dataset=True)\n",
        "model = RagSequenceForGeneration.from_pretrained(\"facebook/rag-token-nq\", retriever=retriever)\n",
        "\n",
        "def rag_retrieve(question, context_docs):\n",
        "    inputs = tokenizer(question, return_tensors=\"pt\")\n",
        "    context_input_ids = tokenizer(context_docs, return_tensors=\"pt\", padding=True, truncation=True)[\"input_ids\"]\n",
        "    retrieved_docs = retriever(input_ids=inputs[\"input_ids\"], context_input_ids=context_input_ids, return_tensors=\"pt\")\n",
        "    return retrieved_docs\n"
      ],
      "metadata": {
        "id": "ja_Ikh6G2EQa"
      },
      "execution_count": null,
      "outputs": []
    },
    {
      "cell_type": "markdown",
      "source": [
        "تابع تحلیل اطلاعات با استفاده از GPT:\n"
      ],
      "metadata": {
        "id": "Pq6N3cm02jme"
      }
    },
    {
      "cell_type": "code",
      "source": [
        "def analyze_text_with_gpt(retrieved_docs, question):\n",
        "    context = \" \".join([doc[\"text\"] for doc in retrieved_docs])\n",
        "    prompt = f\"Answer the following question based on the provided context:\\n\\nContext: {context}\\n\\nQuestion: {question}\"\n",
        "    response = openai.Completion.create(\n",
        "        engine=\"text-davinci-003\",  # یا \"gpt-4\" برای استفاده از GPT-4\n",
        "        prompt=prompt,\n",
        "        max_tokens=150,\n",
        "        n=1,\n",
        "        stop=None,\n",
        "        temperature=0.7,\n",
        "    )\n",
        "    return response.choices[0].text.strip()\n"
      ],
      "metadata": {
        "id": "NjGf2H2N2GaF"
      },
      "execution_count": null,
      "outputs": []
    },
    {
      "cell_type": "markdown",
      "source": [
        "کد اصلی برای ترکیب تمامی مراحل و نمایش نتایج در قالب جدول:\n"
      ],
      "metadata": {
        "id": "9r5IcYps2oiV"
      }
    },
    {
      "cell_type": "code",
      "source": [
        "import pandas as pd\n",
        "\n",
        "# گرفتن ورودی از کاربر\n",
        "question = input(\"Enter your question: \")\n",
        "university_name = input(\"Enter University Name (e.g., uni-bamberg): \")\n",
        "program_name = input(\"Enter Program Name (e.g., denkmalpflege heritage conservation): \")\n",
        "\n",
        "# جستجو در گوگل برای پیدا کردن لینک‌های مرتبط\n",
        "query = f\"site:{university_name}.de {program_name}\"\n",
        "links = google_search(query)\n",
        "\n",
        "# چاپ لینک‌های پیدا شده برای بررسی\n",
        "print(\"Found links:\", links)\n",
        "\n",
        "# اگر لینک‌ها پیدا شدند، داده‌ها را پردازش کنید\n",
        "if links:\n",
        "    context_docs = []\n",
        "    for link in links:\n",
        "        data = fetch_data_from_url(link)\n",
        "        context_docs.append(data)\n",
        "\n",
        "    # بازیابی اطلاعات با RAG\n",
        "    retrieved_docs = rag_retrieve(question, context_docs)\n",
        "\n",
        "    # تولید پاسخ با استفاده از GPT\n",
        "    answer = analyze_text_with_gpt(retrieved_docs, question)\n",
        "\n",
        "    # نمایش نتیجه\n",
        "    print(\"Answer:\", answer)\n",
        "else:\n",
        "    print(\"No links found for the given query.\")\n"
      ],
      "metadata": {
        "id": "WV94pnWY2JsW"
      },
      "execution_count": null,
      "outputs": []
    }
  ]
}